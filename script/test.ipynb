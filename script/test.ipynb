{
 "cells": [
  {
   "cell_type": "code",
   "execution_count": null,
   "source": [
    "import requests\n",
    "import json"
   ],
   "outputs": [],
   "metadata": {}
  },
  {
   "cell_type": "code",
   "execution_count": null,
   "source": [
    "url = \"http://127.0.0.1:8000/\"\n",
    "username = \"vnpy\"\n",
    "password = \"vnpy\""
   ],
   "outputs": [],
   "metadata": {}
  },
  {
   "cell_type": "code",
   "execution_count": null,
   "source": [
    "# 获取令牌\n",
    "r = requests.post(\n",
    "    url + \"token\",\n",
    "    data={\"username\": username, \"password\": password},\n",
    "    headers={\"accept\": \"application/json\"}\n",
    ")\n",
    "token = r.json()[\"access_token\"]"
   ],
   "outputs": [],
   "metadata": {}
  },
  {
   "cell_type": "code",
   "execution_count": null,
   "source": [
    "# 查询函数\n",
    "def query_test(name):\n",
    "    \"\"\"查询对应类型的数据\"\"\"\n",
    "    r = requests.get(\n",
    "        url + name,\n",
    "        headers={\"Authorization\": \"Bearer \" + token}\n",
    "    )\n",
    "    return r.json()"
   ],
   "outputs": [],
   "metadata": {}
  },
  {
   "cell_type": "code",
   "execution_count": null,
   "source": [
    "# 行情订阅\n",
    "r = requests.post(\n",
    "    url + \"tick/\" + \"cu2112.SHFE\",\n",
    "    headers={\"Authorization\": \"Bearer \" + token}\n",
    ")"
   ],
   "outputs": [],
   "metadata": {}
  },
  {
   "cell_type": "code",
   "execution_count": null,
   "source": [
    "# 批量查询\n",
    "for name in [\"tick\", \"contract\", \"account\", \"position\", \"order\", \"trade\"]:\n",
    "    data = query_test(name)\n",
    "    print(name + \"-\" * 20)\n",
    "    if data:\n",
    "        print(data[0])"
   ],
   "outputs": [],
   "metadata": {}
  },
  {
   "cell_type": "code",
   "execution_count": null,
   "source": [
    "# 委托测试\n",
    "req = {\n",
    "    \"symbol\": \"cu2109\",\n",
    "    \"exchange\": \"SHFE\",\n",
    "    \"direction\": \"多\",\n",
    "    \"type\": \"限价\",\n",
    "    \"volume\": 1,\n",
    "    \"price\": 69500,\n",
    "    \"offset\": \"开\",\n",
    "    \"reference\": \"WebTrader\"\n",
    "}\n",
    "\n",
    "r = requests.post(\n",
    "    url + \"order\",\n",
    "    json=req,\n",
    "    headers={\"Authorization\": \"Bearer \" + token}\n",
    ")\n",
    "vt_orderid = r.json()\n",
    "\n",
    "print(vt_orderid)"
   ],
   "outputs": [],
   "metadata": {}
  },
  {
   "cell_type": "code",
   "execution_count": null,
   "source": [
    "# 撤单测试\n",
    "r = requests.delete(\n",
    "    url + \"order/\" + vt_orderid,\n",
    "    headers={\"Authorization\": \"Bearer \" + token}\n",
    ")"
   ],
   "outputs": [],
   "metadata": {}
  },
  {
   "cell_type": "code",
   "execution_count": null,
   "source": [
    "# Weboscket测试\n",
    "from websocket import create_connection\n",
    "\n",
    "ws = create_connection(\"ws://127.0.0.1:8000/ws/?token=\"+token)\n",
    "\n",
    "while True:\n",
    "    result =  ws.recv()\n",
    "    print(\"Received '%s'\" % result)\n",
    "\n",
    "ws.close()"
   ],
   "outputs": [],
   "metadata": {
    "scrolled": false
   }
  },
  {
   "cell_type": "code",
   "execution_count": null,
   "source": [],
   "outputs": [],
   "metadata": {}
  }
 ],
 "metadata": {
  "kernelspec": {
   "display_name": "Python 3",
   "language": "python",
   "name": "python3"
  },
  "language_info": {
   "codemirror_mode": {
    "name": "ipython",
    "version": 3
   },
   "file_extension": ".py",
   "mimetype": "text/x-python",
   "name": "python",
   "nbconvert_exporter": "python",
   "pygments_lexer": "ipython3",
   "version": "3.7.1"
  }
 },
 "nbformat": 4,
 "nbformat_minor": 5
}