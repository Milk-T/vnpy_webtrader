{
 "cells": [
  {
   "cell_type": "code",
   "execution_count": 1,
   "id": "4ca5e09a",
   "metadata": {},
   "outputs": [],
   "source": [
    "import requests\n",
    "import json"
   ]
  },
  {
   "cell_type": "code",
   "execution_count": 2,
   "id": "ef0c1399",
   "metadata": {},
   "outputs": [],
   "source": [
    "url = \"http://127.0.0.1:8000/\"\n",
    "username = \"test\"\n",
    "password = \"test\""
   ]
  },
  {
   "cell_type": "code",
   "execution_count": 3,
   "id": "b2b699ff",
   "metadata": {},
   "outputs": [],
   "source": [
    "# 获取令牌\n",
    "r = requests.post(\n",
    "    url + \"token\",\n",
    "    data={\"username\": username, \"password\": password},\n",
    "    headers={\"accept\": \"application/json\"}\n",
    ")\n",
    "token = r.json()[\"access_token\"]"
   ]
  },
  {
   "cell_type": "code",
   "execution_count": 38,
   "id": "fbae80d2",
   "metadata": {},
   "outputs": [],
   "source": [
    "# 查询测试\n",
    "def query_test(name):\n",
    "    \"\"\"查询对应类型的数据\"\"\"\n",
    "    r = requests.get(\n",
    "        url + name,\n",
    "        headers={\"Authorization\": \"Bearer \" + token}\n",
    "    )\n",
    "    return r.json()"
   ]
  },
  {
   "cell_type": "code",
   "execution_count": 39,
   "id": "cc4cc04d",
   "metadata": {},
   "outputs": [
    {
     "name": "stdout",
     "output_type": "stream",
     "text": [
      "contract--------------------\n",
      "{'gateway_name': 'CTP', 'symbol': 'sc2209', 'exchange': 'INE', 'name': '原油2209', 'product': '期货', 'size': 1000, 'pricetick': 0.1, 'min_volume': 1, 'stop_supported': False, 'net_position': False, 'history_data': False, 'option_strike': 0, 'option_underlying': '', 'option_type': None, 'option_expiry': None, 'option_portfolio': '', 'option_index': '', 'vt_symbol': 'sc2209.INE'}\n",
      "account--------------------\n",
      "{'gateway_name': 'CTP', 'accountid': '000300', 'balance': 25806175.032500003, 'frozen': 55450.75, 'available': 25629305.082500003, 'vt_accountid': 'CTP.000300'}\n",
      "position--------------------\n",
      "{'gateway_name': 'CTP', 'symbol': 'cu2109', 'exchange': 'SHFE', 'direction': '多', 'volume': 3, 'frozen': 0, 'price': 69590.0, 'pnl': 2400.0, 'yd_volume': 1, 'vt_symbol': 'cu2109.SHFE', 'vt_positionid': 'cu2109.SHFE.多'}\n",
      "order--------------------\n",
      "{'gateway_name': 'CTP', 'symbol': 'cu2109', 'exchange': 'SHFE', 'orderid': '1_-511046300_2', 'tradeid': '        2424', 'direction': '空', 'offset': '开', 'price': 69770.0, 'volume': 1, 'datetime': '2021-08-10T17:16:41+08:00', 'vt_symbol': 'cu2109.SHFE', 'vt_orderid': 'CTP.1_-511046300_2', 'vt_tradeid': 'CTP.        2424'}\n",
      "trade--------------------\n",
      "{'gateway_name': 'CTP', 'symbol': 'cu2109', 'exchange': 'SHFE', 'orderid': '1_-511046300_2', 'tradeid': '        2424', 'direction': '空', 'offset': '开', 'price': 69770.0, 'volume': 1, 'datetime': '2021-08-10T17:16:41+08:00', 'vt_symbol': 'cu2109.SHFE', 'vt_orderid': 'CTP.1_-511046300_2', 'vt_tradeid': 'CTP.        2424'}\n"
     ]
    }
   ],
   "source": [
    "# 批量测试\n",
    "for name in [\"contract\", \"account\", \"position\", \"order\", \"trade\"]:\n",
    "    data = query_test(name)\n",
    "    print(name + \"-\" * 20)\n",
    "    if data:\n",
    "        print(data[0])"
   ]
  },
  {
   "cell_type": "code",
   "execution_count": 49,
   "id": "2f3f3325",
   "metadata": {},
   "outputs": [
    {
     "name": "stdout",
     "output_type": "stream",
     "text": [
      "CTP.1_305015881_12\n"
     ]
    }
   ],
   "source": [
    "# 委托测试\n",
    "req = {\n",
    "    \"symbol\": \"cu2109\",\n",
    "    \"exchange\": \"SHFE\",\n",
    "    \"direction\": \"多\",\n",
    "    \"type\": \"限价\",\n",
    "    \"volume\": 1,\n",
    "    \"price\": 69500,\n",
    "    \"offset\": \"开\",\n",
    "    \"reference\": \"WebTrader\"\n",
    "}\n",
    "\n",
    "r = requests.post(\n",
    "    url + \"order\",\n",
    "    json=req,\n",
    "    headers={\"Authorization\": \"Bearer \" + token}\n",
    ")\n",
    "vt_orderid = r.json()\n",
    "\n",
    "print(vt_orderid)"
   ]
  },
  {
   "cell_type": "code",
   "execution_count": 50,
   "id": "eb0b9da2",
   "metadata": {},
   "outputs": [],
   "source": [
    "# 撤单测试\n",
    "r = requests.delete(\n",
    "    url + \"order/\" + vt_orderid,\n",
    "    headers={\"Authorization\": \"Bearer \" + token}\n",
    ")"
   ]
  },
  {
   "cell_type": "code",
   "execution_count": null,
   "id": "e9f6ff9d",
   "metadata": {},
   "outputs": [],
   "source": []
  }
 ],
 "metadata": {
  "kernelspec": {
   "display_name": "Python 3",
   "language": "python",
   "name": "python3"
  },
  "language_info": {
   "codemirror_mode": {
    "name": "ipython",
    "version": 3
   },
   "file_extension": ".py",
   "mimetype": "text/x-python",
   "name": "python",
   "nbconvert_exporter": "python",
   "pygments_lexer": "ipython3",
   "version": "3.7.1"
  }
 },
 "nbformat": 4,
 "nbformat_minor": 5
}
